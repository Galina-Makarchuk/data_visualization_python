{
 "cells": [
  {
   "cell_type": "markdown",
   "id": "cdaa849d-08c0-490c-a17d-f1f81477143b",
   "metadata": {},
   "source": [
    "<h1>Data Visualization with Python</h1>"
   ]
  },
  {
   "cell_type": "markdown",
   "id": "50391c0b-f65c-414e-95bf-c55c23f684af",
   "metadata": {},
   "source": [
    "__Goal of the project:__\n",
    "\n",
    "Recreate the figure, which displays the results of the study, using the dataset and the seaborn library.\n",
    "\n",
    "__Dataset description:__\n",
    "\n",
    "The dataset contains the results of a mock study where 100 red squirrels were given one of three different diets after weaning, and their full grown adult weights were recorded."
   ]
  },
  {
   "cell_type": "markdown",
   "id": "31340324-e0f2-47dc-aede-164c4cdf1eb3",
   "metadata": {},
   "source": [
    "<h2>Exploring the dataset</h2>"
   ]
  },
  {
   "cell_type": "code",
   "execution_count": 5,
   "id": "46c51a7d-edab-4f2c-b62b-e58181afa17a",
   "metadata": {},
   "outputs": [],
   "source": [
    "import pandas as pd\n",
    "import seaborn as sns\n",
    "import matplotlib.pyplot as plt"
   ]
  },
  {
   "cell_type": "code",
   "execution_count": 6,
   "id": "bedbc0c6-9d5b-4a96-9f7b-8ba7030424c4",
   "metadata": {},
   "outputs": [],
   "source": [
    "try:\n",
    "    data=pd.read_csv('squirrel_diet.csv')\n",
    "except:\n",
    "    data=pd.read_csv('/datasets/squirrel_diet.csv')"
   ]
  },
  {
   "cell_type": "code",
   "execution_count": 7,
   "id": "6603f142-e192-4278-bfb1-4abfc89c60dc",
   "metadata": {},
   "outputs": [],
   "source": [
    "df=data.copy()"
   ]
  },
  {
   "cell_type": "code",
   "execution_count": 8,
   "id": "4ccb7b41-8069-431a-854f-21ec0ecabe1c",
   "metadata": {},
   "outputs": [
    {
     "data": {
      "text/html": [
       "<div>\n",
       "<style scoped>\n",
       "    .dataframe tbody tr th:only-of-type {\n",
       "        vertical-align: middle;\n",
       "    }\n",
       "\n",
       "    .dataframe tbody tr th {\n",
       "        vertical-align: top;\n",
       "    }\n",
       "\n",
       "    .dataframe thead th {\n",
       "        text-align: right;\n",
       "    }\n",
       "</style>\n",
       "<table border=\"1\" class=\"dataframe\">\n",
       "  <thead>\n",
       "    <tr style=\"text-align: right;\">\n",
       "      <th></th>\n",
       "      <th>sex</th>\n",
       "      <th>diet</th>\n",
       "      <th>weight</th>\n",
       "    </tr>\n",
       "  </thead>\n",
       "  <tbody>\n",
       "    <tr>\n",
       "      <th>0</th>\n",
       "      <td>0</td>\n",
       "      <td>3</td>\n",
       "      <td>1.042</td>\n",
       "    </tr>\n",
       "    <tr>\n",
       "      <th>1</th>\n",
       "      <td>1</td>\n",
       "      <td>3</td>\n",
       "      <td>1.196</td>\n",
       "    </tr>\n",
       "    <tr>\n",
       "      <th>2</th>\n",
       "      <td>1</td>\n",
       "      <td>2</td>\n",
       "      <td>1.401</td>\n",
       "    </tr>\n",
       "    <tr>\n",
       "      <th>3</th>\n",
       "      <td>1</td>\n",
       "      <td>1</td>\n",
       "      <td>1.015</td>\n",
       "    </tr>\n",
       "    <tr>\n",
       "      <th>4</th>\n",
       "      <td>0</td>\n",
       "      <td>2</td>\n",
       "      <td>1.141</td>\n",
       "    </tr>\n",
       "  </tbody>\n",
       "</table>\n",
       "</div>"
      ],
      "text/plain": [
       "   sex  diet  weight\n",
       "0    0     3   1.042\n",
       "1    1     3   1.196\n",
       "2    1     2   1.401\n",
       "3    1     1   1.015\n",
       "4    0     2   1.141"
      ]
     },
     "execution_count": 8,
     "metadata": {},
     "output_type": "execute_result"
    }
   ],
   "source": [
    "df.head()"
   ]
  },
  {
   "cell_type": "code",
   "execution_count": 9,
   "id": "aac0c42a-1605-4381-9f81-236d1cba442b",
   "metadata": {},
   "outputs": [
    {
     "name": "stdout",
     "output_type": "stream",
     "text": [
      "<class 'pandas.core.frame.DataFrame'>\n",
      "RangeIndex: 100 entries, 0 to 99\n",
      "Data columns (total 3 columns):\n",
      " #   Column  Non-Null Count  Dtype  \n",
      "---  ------  --------------  -----  \n",
      " 0   sex     100 non-null    int64  \n",
      " 1   diet    100 non-null    int64  \n",
      " 2   weight  100 non-null    float64\n",
      "dtypes: float64(1), int64(2)\n",
      "memory usage: 2.5 KB\n"
     ]
    }
   ],
   "source": [
    "df.info()"
   ]
  },
  {
   "cell_type": "code",
   "execution_count": 10,
   "id": "b2be752e-9335-4787-8d98-2ab8fd3d3616",
   "metadata": {},
   "outputs": [
    {
     "data": {
      "text/html": [
       "<div>\n",
       "<style scoped>\n",
       "    .dataframe tbody tr th:only-of-type {\n",
       "        vertical-align: middle;\n",
       "    }\n",
       "\n",
       "    .dataframe tbody tr th {\n",
       "        vertical-align: top;\n",
       "    }\n",
       "\n",
       "    .dataframe thead th {\n",
       "        text-align: right;\n",
       "    }\n",
       "</style>\n",
       "<table border=\"1\" class=\"dataframe\">\n",
       "  <thead>\n",
       "    <tr style=\"text-align: right;\">\n",
       "      <th></th>\n",
       "      <th>sex</th>\n",
       "      <th>diet</th>\n",
       "      <th>weight</th>\n",
       "    </tr>\n",
       "  </thead>\n",
       "  <tbody>\n",
       "    <tr>\n",
       "      <th>count</th>\n",
       "      <td>100.000000</td>\n",
       "      <td>100.0000</td>\n",
       "      <td>100.000000</td>\n",
       "    </tr>\n",
       "    <tr>\n",
       "      <th>mean</th>\n",
       "      <td>0.480000</td>\n",
       "      <td>1.9600</td>\n",
       "      <td>1.126600</td>\n",
       "    </tr>\n",
       "    <tr>\n",
       "      <th>std</th>\n",
       "      <td>0.502117</td>\n",
       "      <td>0.8278</td>\n",
       "      <td>0.188248</td>\n",
       "    </tr>\n",
       "    <tr>\n",
       "      <th>min</th>\n",
       "      <td>0.000000</td>\n",
       "      <td>1.0000</td>\n",
       "      <td>0.681000</td>\n",
       "    </tr>\n",
       "    <tr>\n",
       "      <th>25%</th>\n",
       "      <td>0.000000</td>\n",
       "      <td>1.0000</td>\n",
       "      <td>1.000500</td>\n",
       "    </tr>\n",
       "    <tr>\n",
       "      <th>50%</th>\n",
       "      <td>0.000000</td>\n",
       "      <td>2.0000</td>\n",
       "      <td>1.077500</td>\n",
       "    </tr>\n",
       "    <tr>\n",
       "      <th>75%</th>\n",
       "      <td>1.000000</td>\n",
       "      <td>3.0000</td>\n",
       "      <td>1.213500</td>\n",
       "    </tr>\n",
       "    <tr>\n",
       "      <th>max</th>\n",
       "      <td>1.000000</td>\n",
       "      <td>3.0000</td>\n",
       "      <td>1.979000</td>\n",
       "    </tr>\n",
       "  </tbody>\n",
       "</table>\n",
       "</div>"
      ],
      "text/plain": [
       "              sex      diet      weight\n",
       "count  100.000000  100.0000  100.000000\n",
       "mean     0.480000    1.9600    1.126600\n",
       "std      0.502117    0.8278    0.188248\n",
       "min      0.000000    1.0000    0.681000\n",
       "25%      0.000000    1.0000    1.000500\n",
       "50%      0.000000    2.0000    1.077500\n",
       "75%      1.000000    3.0000    1.213500\n",
       "max      1.000000    3.0000    1.979000"
      ]
     },
     "execution_count": 10,
     "metadata": {},
     "output_type": "execute_result"
    }
   ],
   "source": [
    "df.describe()"
   ]
  },
  {
   "cell_type": "code",
   "execution_count": 11,
   "id": "ccbd6d8d-6a68-4ffa-9946-6d58422e21f2",
   "metadata": {},
   "outputs": [
    {
     "data": {
      "text/plain": [
       "sex       0\n",
       "diet      0\n",
       "weight    0\n",
       "dtype: int64"
      ]
     },
     "execution_count": 11,
     "metadata": {},
     "output_type": "execute_result"
    }
   ],
   "source": [
    "df.isna().sum()"
   ]
  },
  {
   "cell_type": "code",
   "execution_count": 12,
   "id": "e70fc8da-f265-4d87-b039-5ea5d4bc9580",
   "metadata": {},
   "outputs": [
    {
     "data": {
      "text/plain": [
       "0"
      ]
     },
     "execution_count": 12,
     "metadata": {},
     "output_type": "execute_result"
    }
   ],
   "source": [
    "df.duplicated().sum()"
   ]
  },
  {
   "cell_type": "code",
   "execution_count": 13,
   "id": "8630aebf-c307-4b89-8ee0-ee801e832fc8",
   "metadata": {},
   "outputs": [
    {
     "data": {
      "text/plain": [
       "array([0, 1])"
      ]
     },
     "execution_count": 13,
     "metadata": {},
     "output_type": "execute_result"
    }
   ],
   "source": [
    "df['sex'].unique()"
   ]
  },
  {
   "cell_type": "code",
   "execution_count": 14,
   "id": "cdaae551-3f59-4187-b533-022f801345ca",
   "metadata": {},
   "outputs": [
    {
     "data": {
      "text/plain": [
       "sex\n",
       "0    52\n",
       "1    48\n",
       "Name: count, dtype: int64"
      ]
     },
     "execution_count": 14,
     "metadata": {},
     "output_type": "execute_result"
    }
   ],
   "source": [
    "df['sex'].value_counts()"
   ]
  },
  {
   "cell_type": "code",
   "execution_count": 15,
   "id": "dc2e3c0f-19a8-450b-8e2f-51eeccb33d2b",
   "metadata": {},
   "outputs": [
    {
     "data": {
      "text/plain": [
       "array([3, 2, 1])"
      ]
     },
     "execution_count": 15,
     "metadata": {},
     "output_type": "execute_result"
    }
   ],
   "source": [
    "df['diet'].unique()"
   ]
  },
  {
   "cell_type": "code",
   "execution_count": 16,
   "id": "254840b8-da76-4745-af23-453b84648ae9",
   "metadata": {},
   "outputs": [
    {
     "data": {
      "text/plain": [
       "diet\n",
       "1    36\n",
       "3    32\n",
       "2    32\n",
       "Name: count, dtype: int64"
      ]
     },
     "execution_count": 16,
     "metadata": {},
     "output_type": "execute_result"
    }
   ],
   "source": [
    "df['diet'].value_counts()"
   ]
  },
  {
   "cell_type": "code",
   "execution_count": 17,
   "id": "146047bc-6bbe-48b8-a553-7f8ce01ff9bf",
   "metadata": {},
   "outputs": [
    {
     "data": {
      "text/plain": [
       "array([1.042, 1.196, 1.401, 1.015, 1.141, 1.113, 1.213, 1.132, 1.034,\n",
       "       1.045, 1.168, 1.413, 1.248, 0.971, 1.093, 1.171, 1.21 , 1.032,\n",
       "       1.158, 1.262, 1.009, 1.275, 0.992, 1.03 , 1.479, 0.967, 1.152,\n",
       "       0.985, 1.083, 0.912, 1.178, 0.959, 1.039, 1.257, 1.001, 1.604,\n",
       "       1.043, 0.681, 1.041, 1.103, 1.127, 1.274, 0.943, 0.984, 1.18 ,\n",
       "       1.165, 1.59 , 0.983, 1.261, 0.961, 0.946, 1.339, 1.292, 1.32 ,\n",
       "       1.005, 0.926, 1.489, 1.077, 0.906, 1.353, 1.091, 1.541, 1.287,\n",
       "       0.963, 1.01 , 1.094, 0.953, 0.965, 0.974, 1.315, 1.363, 0.977,\n",
       "       1.522, 1.078, 1.066, 1.059, 1.136, 1.272, 1.011, 0.916, 1.081,\n",
       "       1.014, 1.215, 1.024, 0.999, 1.049, 0.995, 1.979, 1.099, 1.327,\n",
       "       0.99 ])"
      ]
     },
     "execution_count": 17,
     "metadata": {},
     "output_type": "execute_result"
    }
   ],
   "source": [
    "df['weight'].unique()"
   ]
  },
  {
   "cell_type": "markdown",
   "id": "ea0a31b0-2f55-4e45-a4de-c88a42c71fa8",
   "metadata": {},
   "source": [
    "<h3>Conclusions:</h3>\n",
    "\n",
    "* The column names are formatted properly.\n",
    "* There are no missing values in the dataset.\n",
    "* There are no duplicate values in the dataset.\n",
    "* There are no strange values in the columns.\n",
    "* The dataset is ready for creating a plot."
   ]
  },
  {
   "cell_type": "markdown",
   "id": "6e891c36-8c4c-42ab-84f6-31952c84822d",
   "metadata": {},
   "source": [
    "<h2>Building a plot</h2>"
   ]
  },
  {
   "cell_type": "markdown",
   "id": "7e5141c7-4a04-4255-bcab-04b9d963a0d7",
   "metadata": {},
   "source": [
    "1. First visualization of the dataset - overview:"
   ]
  },
  {
   "cell_type": "code",
   "execution_count": 21,
   "id": "6964928c-8d94-4f68-a9c8-7c756842bc9d",
   "metadata": {},
   "outputs": [
    {
     "name": "stderr",
     "output_type": "stream",
     "text": [
      "/opt/anaconda3/lib/python3.11/site-packages/seaborn/_oldcore.py:1119: FutureWarning: use_inf_as_na option is deprecated and will be removed in a future version. Convert inf values to NaN before operating instead.\n",
      "  with pd.option_context('mode.use_inf_as_na', True):\n",
      "/opt/anaconda3/lib/python3.11/site-packages/seaborn/_oldcore.py:1119: FutureWarning: use_inf_as_na option is deprecated and will be removed in a future version. Convert inf values to NaN before operating instead.\n",
      "  with pd.option_context('mode.use_inf_as_na', True):\n"
     ]
    },
    {
     "data": {
      "text/plain": [
       "<Axes: xlabel='diet', ylabel='weight'>"
      ]
     },
     "execution_count": 21,
     "metadata": {},
     "output_type": "execute_result"
    },
    {
     "data": {
      "image/png": "[encoded data removed]",
      "text/plain": [
       "<Figure size 640x480 with 1 Axes>"
      ]
     },
     "metadata": {},
     "output_type": "display_data"
    }
   ],
   "source": [
    "sns.stripplot(x=\"diet\", y=\"weight\", hue=\"sex\", data=df)"
   ]
  },
  {
   "cell_type": "markdown",
   "id": "2e253520-bda0-4bd3-96dc-780c2c08a916",
   "metadata": {},
   "source": [
    "Converting the legend labels of sex from 0/1 to Female/Male:"
   ]
  },
  {
   "cell_type": "code",
   "execution_count": 23,
   "id": "254d2e24-4d6a-46c7-b113-7b244ab2a899",
   "metadata": {},
   "outputs": [],
   "source": [
    "df['sex'] = df['sex'].replace({0: 'Female', 1: 'Male'})"
   ]
  },
  {
   "cell_type": "markdown",
   "id": "fd8ff630-6bd2-4fa7-bb5c-f0dcba2aee7a",
   "metadata": {},
   "source": [
    "Converting the x-axis labels of diet from 1/2/3 to A/B/C:"
   ]
  },
  {
   "cell_type": "code",
   "execution_count": 25,
   "id": "69313516-a461-4c82-a5af-34b9816ca03e",
   "metadata": {},
   "outputs": [],
   "source": [
    "df['diet'] = df['diet'].replace({1: 'A', 2: 'B', 3: 'C'})"
   ]
  },
  {
   "cell_type": "markdown",
   "id": "d1aa75c3-1d38-4d76-b121-e2d2e250c6f9",
   "metadata": {},
   "source": [
    "Setting the x-axis data order:"
   ]
  },
  {
   "cell_type": "code",
   "execution_count": 27,
   "id": "9318b93d-c19e-4621-918f-2a8b1aaa2e53",
   "metadata": {},
   "outputs": [],
   "source": [
    "diet_order = ['A', 'B', 'C']"
   ]
  },
  {
   "cell_type": "markdown",
   "id": "eef6ecc0-fde8-4d7a-8e81-69ed60df2c57",
   "metadata": {},
   "source": [
    "2. Second visualization of the dataset - checking the applied changes:"
   ]
  },
  {
   "cell_type": "code",
   "execution_count": 29,
   "id": "f3e07a44-382f-4887-b96a-2f5acd6be811",
   "metadata": {},
   "outputs": [
    {
     "name": "stderr",
     "output_type": "stream",
     "text": [
      "/opt/anaconda3/lib/python3.11/site-packages/seaborn/_oldcore.py:1119: FutureWarning: use_inf_as_na option is deprecated and will be removed in a future version. Convert inf values to NaN before operating instead.\n",
      "  with pd.option_context('mode.use_inf_as_na', True):\n",
      "/opt/anaconda3/lib/python3.11/site-packages/seaborn/_oldcore.py:1119: FutureWarning: use_inf_as_na option is deprecated and will be removed in a future version. Convert inf values to NaN before operating instead.\n",
      "  with pd.option_context('mode.use_inf_as_na', True):\n"
     ]
    },
    {
     "data": {
      "text/plain": [
       "<Axes: xlabel='diet', ylabel='weight'>"
      ]
     },
     "execution_count": 29,
     "metadata": {},
     "output_type": "execute_result"
    },
    {
     "data": {
      "image/png": "[encoded data removed]",
      "text/plain": [
       "<Figure size 640x480 with 1 Axes>"
      ]
     },
     "metadata": {},
     "output_type": "display_data"
    }
   ],
   "source": [
    "sns.stripplot(x=\"diet\", y=\"weight\", hue=\"sex\", order = diet_order, data=df)"
   ]
  },
  {
   "cell_type": "markdown",
   "id": "81366f8c-a3bd-4fb3-88a2-8603141794bc",
   "metadata": {},
   "source": [
    "3. Final visualization of the dataset - formatting the figure:"
   ]
  },
  {
   "cell_type": "code",
   "execution_count": 31,
   "id": "7927e6ab-6245-4393-aec8-c972288057a7",
   "metadata": {},
   "outputs": [
    {
     "name": "stderr",
     "output_type": "stream",
     "text": [
      "/opt/anaconda3/lib/python3.11/site-packages/seaborn/_oldcore.py:1119: FutureWarning: use_inf_as_na option is deprecated and will be removed in a future version. Convert inf values to NaN before operating instead.\n",
      "  with pd.option_context('mode.use_inf_as_na', True):\n",
      "/opt/anaconda3/lib/python3.11/site-packages/seaborn/_oldcore.py:1119: FutureWarning: use_inf_as_na option is deprecated and will be removed in a future version. Convert inf values to NaN before operating instead.\n",
      "  with pd.option_context('mode.use_inf_as_na', True):\n"
     ]
    },
    {
     "data": {
      "image/png": "[encoded data removed]",
      "text/plain": [
       "<Figure size 640x480 with 1 Axes>"
      ]
     },
     "metadata": {},
     "output_type": "display_data"
    },
    {
     "data": {
      "text/plain": [
       "<Figure size 640x480 with 0 Axes>"
      ]
     },
     "metadata": {},
     "output_type": "display_data"
    }
   ],
   "source": [
    "sns.stripplot(x=\"diet\", y=\"weight\", hue=\"sex\", order = diet_order, data=df, palette={\"Male\": \"green\", \"Female\": \"magenta\"},  jitter=0.09)\n",
    "plt.xticks(range(len(diet_order)), diet_order)\n",
    "plt.xlabel(\"Diet Label\")\n",
    "plt.ylabel(\"Adult Weight / lbs\")\n",
    "plt.title(\"Red Squirrel Diet Study\")\n",
    "plt.show()\n",
    "plt.clf()"
   ]
  },
  {
   "cell_type": "markdown",
   "id": "9166198e-7a16-4425-a59c-823d906c8ca9",
   "metadata": {},
   "source": [
    "<h2>Conclusion</h2>"
   ]
  },
  {
   "cell_type": "markdown",
   "id": "8d157a0d-ab02-47d4-9685-726ab251f29d",
   "metadata": {},
   "source": [
    "- The figure is recreated using the seaborn library.\n",
    "- It presents the data in the same way as in the project description, including the title and axis labels, axis ticks and ranges, legend with magenta and green data points.\n",
    "- Diet A had the least impact on the weight growth in comparison with diets B and C.\n",
    "- Diet B has the biggest dispersion in weight, with outliers from both ends.\n",
    "- Diet C shows small dispersion in weight, but it is more than for the diet A.\n",
    "- The diets A and C have the same effect on the weight of both male and female squirrels.\n",
    "- The weight of male squirrels varies a lot for the diet B, from 0.9 to 1.6 lbs, while the weight of female squirrels with the diet B is more compact and varies within 1.1 and 1.3 lbs, with some outliers from both sides."
   ]
  }
 ],
 "metadata": {
  "kernelspec": {
   "display_name": "Python 3 (ipykernel)",
   "language": "python",
   "name": "python3"
  },
  "language_info": {
   "codemirror_mode": {
    "name": "ipython",
    "version": 3
   },
   "file_extension": ".py",
   "mimetype": "text/x-python",
   "name": "python",
   "nbconvert_exporter": "python",
   "pygments_lexer": "ipython3",
   "version": "3.11.7"
  }
 },
 "nbformat": 4,
 "nbformat_minor": 5
}
